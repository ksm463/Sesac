{
 "cells": [
  {
   "cell_type": "code",
   "execution_count": 1,
   "id": "d11e9e21-d6d2-41a6-a58c-8c828214df86",
   "metadata": {},
   "outputs": [],
   "source": [
    "from sklearn.preprocessing import LabelEncoder"
   ]
  },
  {
   "cell_type": "code",
   "execution_count": 4,
   "id": "bc844f31-d23c-489a-8619-e32f6907a166",
   "metadata": {},
   "outputs": [],
   "source": [
    "items = ['TV','냉장고','전자레인지','컴퓨터','선풍기','선풍기','믹서','믹서']\n",
    "encoder = LabelEncoder()\n",
    "encoder.fit(items)\n",
    "labels = encoder.transform(items)"
   ]
  },
  {
   "cell_type": "code",
   "execution_count": 5,
   "id": "ece035eb-587e-49d3-b161-baf81ef04c38",
   "metadata": {},
   "outputs": [
    {
     "data": {
      "text/plain": [
       "array([0, 1, 4, 5, 3, 3, 2, 2])"
      ]
     },
     "execution_count": 5,
     "metadata": {},
     "output_type": "execute_result"
    }
   ],
   "source": [
    "labels"
   ]
  },
  {
   "cell_type": "code",
   "execution_count": 8,
   "id": "1ac3d6e7-3e55-40fb-8934-936d9ad9833a",
   "metadata": {},
   "outputs": [
    {
     "data": {
      "text/plain": [
       "array([1])"
      ]
     },
     "execution_count": 8,
     "metadata": {},
     "output_type": "execute_result"
    }
   ],
   "source": [
    "encoder.transform(['냉장고'])"
   ]
  },
  {
   "cell_type": "code",
   "execution_count": 9,
   "id": "e7b3e9e7-c268-412e-900a-7d5c8d4de999",
   "metadata": {},
   "outputs": [
    {
     "data": {
      "text/plain": [
       "array(['TV', '냉장고', '믹서', '선풍기', '전자레인지', '컴퓨터'], dtype='<U5')"
      ]
     },
     "execution_count": 9,
     "metadata": {},
     "output_type": "execute_result"
    }
   ],
   "source": [
    "encoder.classes_"
   ]
  },
  {
   "cell_type": "code",
   "execution_count": 10,
   "id": "fc17281a-0982-4f02-b439-bf397b08de93",
   "metadata": {},
   "outputs": [
    {
     "data": {
      "text/plain": [
       "array(['냉장고'], dtype='<U5')"
      ]
     },
     "execution_count": 10,
     "metadata": {},
     "output_type": "execute_result"
    }
   ],
   "source": [
    "encoder.inverse_transform([1])"
   ]
  },
  {
   "cell_type": "code",
   "execution_count": 11,
   "id": "731d7e79-3f22-4070-8053-7cbfe469754c",
   "metadata": {},
   "outputs": [
    {
     "data": {
      "text/plain": [
       "array(['TV', '냉장고', '전자레인지', '컴퓨터', '선풍기', '선풍기', '믹서', '믹서'], dtype='<U5')"
      ]
     },
     "execution_count": 11,
     "metadata": {},
     "output_type": "execute_result"
    }
   ],
   "source": [
    "encoder.inverse_transform(labels)"
   ]
  },
  {
   "cell_type": "code",
   "execution_count": 13,
   "id": "ab0faac8-9857-4df0-ab85-5a4dd0ed6a3c",
   "metadata": {},
   "outputs": [],
   "source": [
    "from sklearn.preprocessing import OneHotEncoder\n",
    "import numpy as np"
   ]
  },
  {
   "cell_type": "code",
   "execution_count": 19,
   "id": "c901f007-f1e0-4df1-b093-fe7baa5be4fc",
   "metadata": {},
   "outputs": [
    {
     "data": {
      "text/plain": [
       "array([['TV'],\n",
       "       ['냉장고'],\n",
       "       ['전자레인지'],\n",
       "       ['컴퓨터'],\n",
       "       ['선풍기'],\n",
       "       ['선풍기'],\n",
       "       ['믹서'],\n",
       "       ['믹서']], dtype='<U5')"
      ]
     },
     "execution_count": 19,
     "metadata": {},
     "output_type": "execute_result"
    }
   ],
   "source": [
    "items\n",
    "\n",
    "items_t = np.array(items).reshape(-1, 1)\n",
    "items_t"
   ]
  },
  {
   "cell_type": "code",
   "execution_count": 20,
   "id": "673f1605-24ec-4681-a993-9d5356014f3b",
   "metadata": {},
   "outputs": [],
   "source": [
    "items_l = [['TV'],\n",
    "       ['냉장고'],\n",
    "       ['전자레인지'],\n",
    "       ['컴퓨터'],\n",
    "       ['선풍기'],\n",
    "       ['선풍기'],\n",
    "       ['믹서'],\n",
    "       ['믹서']]"
   ]
  },
  {
   "cell_type": "code",
   "execution_count": 21,
   "id": "1a03f19c-f7e3-4772-ad1d-3da58b5dec91",
   "metadata": {},
   "outputs": [
    {
     "data": {
      "text/plain": [
       "array([[1., 0., 0., 0., 0., 0.],\n",
       "       [0., 1., 0., 0., 0., 0.],\n",
       "       [0., 0., 0., 0., 1., 0.],\n",
       "       [0., 0., 0., 0., 0., 1.],\n",
       "       [0., 0., 0., 1., 0., 0.],\n",
       "       [0., 0., 0., 1., 0., 0.],\n",
       "       [0., 0., 1., 0., 0., 0.],\n",
       "       [0., 0., 1., 0., 0., 0.]])"
      ]
     },
     "execution_count": 21,
     "metadata": {},
     "output_type": "execute_result"
    }
   ],
   "source": [
    "oh_encoder = OneHotEncoder()\n",
    "oh_encoder.fit(items_l)\n",
    "result = oh_encoder.transform(items_l)\n",
    "result.toarray()"
   ]
  },
  {
   "cell_type": "code",
   "execution_count": 23,
   "id": "0bcb03c3-3ad6-4926-bc8f-ecd3599dcbba",
   "metadata": {},
   "outputs": [
    {
     "data": {
      "text/plain": [
       "[array(['TV', '냉장고', '믹서', '선풍기', '전자레인지', '컴퓨터'], dtype=object)]"
      ]
     },
     "execution_count": 23,
     "metadata": {},
     "output_type": "execute_result"
    }
   ],
   "source": [
    "oh_encoder.categories_"
   ]
  },
  {
   "cell_type": "code",
   "execution_count": 24,
   "id": "170b24ff-f1fd-412a-88d1-7d041f3573e1",
   "metadata": {},
   "outputs": [
    {
     "data": {
      "text/plain": [
       "array([['TV']], dtype=object)"
      ]
     },
     "execution_count": 24,
     "metadata": {},
     "output_type": "execute_result"
    }
   ],
   "source": [
    "oh_encoder.inverse_transform([[1., 0., 0., 0., 0., 0.]])"
   ]
  },
  {
   "cell_type": "code",
   "execution_count": 25,
   "id": "44ba36f9-9c0a-4a09-905a-2d9abaa98691",
   "metadata": {},
   "outputs": [],
   "source": [
    "import pandas as pd"
   ]
  },
  {
   "cell_type": "code",
   "execution_count": 27,
   "id": "4fe21c5e-8014-4254-b0d4-859cbc33cf62",
   "metadata": {},
   "outputs": [],
   "source": [
    "df = pd.DataFrame({'item':['TV', '냉장고', '전자레인지', '컴퓨터', '선풍기', '선풍기', '믹서', '믹서']})"
   ]
  },
  {
   "cell_type": "code",
   "execution_count": 28,
   "id": "25c1b9ca-01a7-40e2-9857-5a4ef54b53f5",
   "metadata": {},
   "outputs": [
    {
     "data": {
      "text/html": [
       "<div>\n",
       "<style scoped>\n",
       "    .dataframe tbody tr th:only-of-type {\n",
       "        vertical-align: middle;\n",
       "    }\n",
       "\n",
       "    .dataframe tbody tr th {\n",
       "        vertical-align: top;\n",
       "    }\n",
       "\n",
       "    .dataframe thead th {\n",
       "        text-align: right;\n",
       "    }\n",
       "</style>\n",
       "<table border=\"1\" class=\"dataframe\">\n",
       "  <thead>\n",
       "    <tr style=\"text-align: right;\">\n",
       "      <th></th>\n",
       "      <th>TV</th>\n",
       "      <th>냉장고</th>\n",
       "      <th>믹서</th>\n",
       "      <th>선풍기</th>\n",
       "      <th>전자레인지</th>\n",
       "      <th>컴퓨터</th>\n",
       "    </tr>\n",
       "  </thead>\n",
       "  <tbody>\n",
       "    <tr>\n",
       "      <th>0</th>\n",
       "      <td>1</td>\n",
       "      <td>0</td>\n",
       "      <td>0</td>\n",
       "      <td>0</td>\n",
       "      <td>0</td>\n",
       "      <td>0</td>\n",
       "    </tr>\n",
       "    <tr>\n",
       "      <th>1</th>\n",
       "      <td>0</td>\n",
       "      <td>1</td>\n",
       "      <td>0</td>\n",
       "      <td>0</td>\n",
       "      <td>0</td>\n",
       "      <td>0</td>\n",
       "    </tr>\n",
       "    <tr>\n",
       "      <th>2</th>\n",
       "      <td>0</td>\n",
       "      <td>0</td>\n",
       "      <td>0</td>\n",
       "      <td>0</td>\n",
       "      <td>1</td>\n",
       "      <td>0</td>\n",
       "    </tr>\n",
       "    <tr>\n",
       "      <th>3</th>\n",
       "      <td>0</td>\n",
       "      <td>0</td>\n",
       "      <td>0</td>\n",
       "      <td>0</td>\n",
       "      <td>0</td>\n",
       "      <td>1</td>\n",
       "    </tr>\n",
       "    <tr>\n",
       "      <th>4</th>\n",
       "      <td>0</td>\n",
       "      <td>0</td>\n",
       "      <td>0</td>\n",
       "      <td>1</td>\n",
       "      <td>0</td>\n",
       "      <td>0</td>\n",
       "    </tr>\n",
       "    <tr>\n",
       "      <th>5</th>\n",
       "      <td>0</td>\n",
       "      <td>0</td>\n",
       "      <td>0</td>\n",
       "      <td>1</td>\n",
       "      <td>0</td>\n",
       "      <td>0</td>\n",
       "    </tr>\n",
       "    <tr>\n",
       "      <th>6</th>\n",
       "      <td>0</td>\n",
       "      <td>0</td>\n",
       "      <td>1</td>\n",
       "      <td>0</td>\n",
       "      <td>0</td>\n",
       "      <td>0</td>\n",
       "    </tr>\n",
       "    <tr>\n",
       "      <th>7</th>\n",
       "      <td>0</td>\n",
       "      <td>0</td>\n",
       "      <td>1</td>\n",
       "      <td>0</td>\n",
       "      <td>0</td>\n",
       "      <td>0</td>\n",
       "    </tr>\n",
       "  </tbody>\n",
       "</table>\n",
       "</div>"
      ],
      "text/plain": [
       "   TV  냉장고  믹서  선풍기  전자레인지  컴퓨터\n",
       "0   1    0   0    0      0    0\n",
       "1   0    1   0    0      0    0\n",
       "2   0    0   0    0      1    0\n",
       "3   0    0   0    0      0    1\n",
       "4   0    0   0    1      0    0\n",
       "5   0    0   0    1      0    0\n",
       "6   0    0   1    0      0    0\n",
       "7   0    0   1    0      0    0"
      ]
     },
     "execution_count": 28,
     "metadata": {},
     "output_type": "execute_result"
    }
   ],
   "source": [
    "pd.get_dummies(df['item'])"
   ]
  },
  {
   "cell_type": "code",
   "execution_count": 29,
   "id": "6b36b473-8bd4-4709-9734-653d7835aaff",
   "metadata": {},
   "outputs": [],
   "source": [
    "from sklearn.datasets import load_iris"
   ]
  },
  {
   "cell_type": "code",
   "execution_count": 30,
   "id": "6c0ed477-7b2a-49c6-a84c-8b840e020dbf",
   "metadata": {},
   "outputs": [],
   "source": [
    "iris = load_iris(as_frame=True)"
   ]
  },
  {
   "cell_type": "code",
   "execution_count": 31,
   "id": "72214f9c-0f1f-407c-8550-03f5d7546af5",
   "metadata": {},
   "outputs": [
    {
     "data": {
      "text/plain": [
       "sepal length (cm)    5.843333\n",
       "sepal width (cm)     3.057333\n",
       "petal length (cm)    3.758000\n",
       "petal width (cm)     1.199333\n",
       "dtype: float64"
      ]
     },
     "execution_count": 31,
     "metadata": {},
     "output_type": "execute_result"
    }
   ],
   "source": [
    "iris.data.mean()"
   ]
  },
  {
   "cell_type": "code",
   "execution_count": 32,
   "id": "22a45621-0fd3-49fc-829f-e7aed6f040a3",
   "metadata": {},
   "outputs": [
    {
     "data": {
      "text/plain": [
       "sepal length (cm)    0.685694\n",
       "sepal width (cm)     0.189979\n",
       "petal length (cm)    3.116278\n",
       "petal width (cm)     0.581006\n",
       "dtype: float64"
      ]
     },
     "execution_count": 32,
     "metadata": {},
     "output_type": "execute_result"
    }
   ],
   "source": [
    "iris.data.var()"
   ]
  },
  {
   "cell_type": "code",
   "execution_count": 34,
   "id": "b92f36c6-019d-4b8d-8c1d-122d822a3f80",
   "metadata": {},
   "outputs": [],
   "source": [
    "from sklearn.preprocessing import StandardScaler"
   ]
  },
  {
   "cell_type": "code",
   "execution_count": 35,
   "id": "d9dc42fe-bc45-4b44-90e2-4d299c901d42",
   "metadata": {},
   "outputs": [],
   "source": [
    "scaler = StandardScaler()\n",
    "scaler.fit(iris.data)\n",
    "iris_scaled = scaler.transform(iris.data)"
   ]
  },
  {
   "cell_type": "code",
   "execution_count": 36,
   "id": "92c02587-2c16-4320-a23d-05ade493f0e1",
   "metadata": {},
   "outputs": [
    {
     "data": {
      "text/plain": [
       "-4.855375361027351e-16"
      ]
     },
     "execution_count": 36,
     "metadata": {},
     "output_type": "execute_result"
    }
   ],
   "source": [
    "iris_scaled.mean()"
   ]
  },
  {
   "cell_type": "code",
   "execution_count": 37,
   "id": "0b0ebb67-d12d-4c81-a625-f1877920ac17",
   "metadata": {},
   "outputs": [],
   "source": [
    "iris_df = pd.DataFrame(iris_scaled)"
   ]
  },
  {
   "cell_type": "code",
   "execution_count": 38,
   "id": "bd6eb599-bd76-4301-b678-ada86b6f3136",
   "metadata": {},
   "outputs": [
    {
     "data": {
      "text/plain": [
       "0   -0.0\n",
       "1   -0.0\n",
       "2   -0.0\n",
       "3   -0.0\n",
       "dtype: float64"
      ]
     },
     "execution_count": 38,
     "metadata": {},
     "output_type": "execute_result"
    }
   ],
   "source": [
    "iris_df.mean().round(5)"
   ]
  },
  {
   "cell_type": "code",
   "execution_count": 39,
   "id": "dc3cb57b-6c9d-4759-adf2-062e8a0eaa91",
   "metadata": {},
   "outputs": [
    {
     "data": {
      "text/plain": [
       "0    1.006711\n",
       "1    1.006711\n",
       "2    1.006711\n",
       "3    1.006711\n",
       "dtype: float64"
      ]
     },
     "execution_count": 39,
     "metadata": {},
     "output_type": "execute_result"
    }
   ],
   "source": [
    "iris_df.var()"
   ]
  },
  {
   "cell_type": "code",
   "execution_count": 40,
   "id": "c745573d-a182-4bc5-a097-4d6c8107ccb6",
   "metadata": {},
   "outputs": [],
   "source": [
    "from sklearn.preprocessing import MinMaxScaler"
   ]
  },
  {
   "cell_type": "code",
   "execution_count": 42,
   "id": "46d60a6f-73f9-4a35-9e67-1e76bec9abc4",
   "metadata": {},
   "outputs": [],
   "source": [
    "scaler = MinMaxScaler()\n",
    "scaler.fit(iris.data)\n",
    "iris_scaled = scaler.transform(iris.data)"
   ]
  },
  {
   "cell_type": "code",
   "execution_count": 43,
   "id": "44f4b7b3-c716-4c9f-8179-17c2a5f8c1db",
   "metadata": {},
   "outputs": [
    {
     "data": {
      "text/plain": [
       "(0    0.0\n",
       " 1    0.0\n",
       " 2    0.0\n",
       " 3    0.0\n",
       " dtype: float64,\n",
       " sepal length (cm)    4.3\n",
       " sepal width (cm)     2.0\n",
       " petal length (cm)    1.0\n",
       " petal width (cm)     0.1\n",
       " dtype: float64)"
      ]
     },
     "execution_count": 43,
     "metadata": {},
     "output_type": "execute_result"
    }
   ],
   "source": [
    "iris_df = pd.DataFrame(iris_scaled)\n",
    "iris_df.min(),iris.data.min()"
   ]
  },
  {
   "cell_type": "code",
   "execution_count": 44,
   "id": "0524630b-3454-46fd-bafa-9aa885c80232",
   "metadata": {},
   "outputs": [
    {
     "data": {
      "text/plain": [
       "(0    1.0\n",
       " 1    1.0\n",
       " 2    1.0\n",
       " 3    1.0\n",
       " dtype: float64,\n",
       " sepal length (cm)    7.9\n",
       " sepal width (cm)     4.4\n",
       " petal length (cm)    6.9\n",
       " petal width (cm)     2.5\n",
       " dtype: float64)"
      ]
     },
     "execution_count": 44,
     "metadata": {},
     "output_type": "execute_result"
    }
   ],
   "source": [
    "iris_df.max(), iris.data.max()"
   ]
  },
  {
   "cell_type": "code",
   "execution_count": 46,
   "id": "966704f2-4b06-4681-8ba6-25a84c8bb47e",
   "metadata": {},
   "outputs": [
    {
     "data": {
      "text/plain": [
       "array([[ 0],\n",
       "       [ 1],\n",
       "       [ 2],\n",
       "       [ 3],\n",
       "       [ 4],\n",
       "       [ 5],\n",
       "       [ 6],\n",
       "       [ 7],\n",
       "       [ 8],\n",
       "       [ 9],\n",
       "       [10]])"
      ]
     },
     "execution_count": 46,
     "metadata": {},
     "output_type": "execute_result"
    }
   ],
   "source": [
    "train_array = np.arange(0,11).reshape(-1,1)\n",
    "train_array"
   ]
  },
  {
   "cell_type": "code",
   "execution_count": 47,
   "id": "09033187-0f41-45c5-be66-7cbbfc160bb6",
   "metadata": {},
   "outputs": [
    {
     "data": {
      "text/plain": [
       "array([[0],\n",
       "       [1],\n",
       "       [2],\n",
       "       [3],\n",
       "       [4],\n",
       "       [5]])"
      ]
     },
     "execution_count": 47,
     "metadata": {},
     "output_type": "execute_result"
    }
   ],
   "source": [
    "test_array = np.arange(0,6).reshape(-1,1)\n",
    "test_array"
   ]
  },
  {
   "cell_type": "code",
   "execution_count": 49,
   "id": "e0f34259-71b9-46b9-a681-493b9fb22eb0",
   "metadata": {},
   "outputs": [],
   "source": [
    "scaler = MinMaxScaler()\n",
    "scaler.fit(train_array)\n",
    "train_array = scaler.transform(train_array)"
   ]
  },
  {
   "cell_type": "code",
   "execution_count": 50,
   "id": "c64d9b3e-7dca-4568-af57-36a958a3bd36",
   "metadata": {},
   "outputs": [
    {
     "data": {
      "text/plain": [
       "array([[0. ],\n",
       "       [0.1],\n",
       "       [0.2],\n",
       "       [0.3],\n",
       "       [0.4],\n",
       "       [0.5],\n",
       "       [0.6],\n",
       "       [0.7],\n",
       "       [0.8],\n",
       "       [0.9],\n",
       "       [1. ]])"
      ]
     },
     "execution_count": 50,
     "metadata": {},
     "output_type": "execute_result"
    }
   ],
   "source": [
    "train_array"
   ]
  },
  {
   "cell_type": "code",
   "execution_count": 53,
   "id": "6facb127-0695-4ee7-9528-a1b92238ab0f",
   "metadata": {},
   "outputs": [],
   "source": [
    "# scaler.fit(test_array)\n",
    "test_array = scaler.transform(test_array)"
   ]
  },
  {
   "cell_type": "code",
   "execution_count": 54,
   "id": "c3a22e5c-cd9a-4566-af8a-cc8ccd9a3bca",
   "metadata": {},
   "outputs": [
    {
     "data": {
      "text/plain": [
       "array([[0.  ],\n",
       "       [0.04],\n",
       "       [0.08],\n",
       "       [0.12],\n",
       "       [0.16],\n",
       "       [0.2 ]])"
      ]
     },
     "execution_count": 54,
     "metadata": {},
     "output_type": "execute_result"
    }
   ],
   "source": [
    "test_array"
   ]
  },
  {
   "cell_type": "code",
   "execution_count": null,
   "id": "5428a7b3-4cf5-4ad2-af79-f0118cc529ae",
   "metadata": {},
   "outputs": [],
   "source": []
  }
 ],
 "metadata": {
  "kernelspec": {
   "display_name": "Python 3 (ipykernel)",
   "language": "python",
   "name": "python3"
  },
  "language_info": {
   "codemirror_mode": {
    "name": "ipython",
    "version": 3
   },
   "file_extension": ".py",
   "mimetype": "text/x-python",
   "name": "python",
   "nbconvert_exporter": "python",
   "pygments_lexer": "ipython3",
   "version": "3.9.13"
  }
 },
 "nbformat": 4,
 "nbformat_minor": 5
}
