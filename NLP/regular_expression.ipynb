{
 "cells": [
  {
   "cell_type": "code",
   "execution_count": 1,
   "id": "bcfc1eb1",
   "metadata": {},
   "outputs": [],
   "source": [
    "import numpy as np"
   ]
  },
  {
   "cell_type": "code",
   "execution_count": 2,
   "id": "29a9a6ed",
   "metadata": {},
   "outputs": [],
   "source": [
    "import pandas as pd"
   ]
  },
  {
   "cell_type": "code",
   "execution_count": 6,
   "id": "036f9787",
   "metadata": {},
   "outputs": [],
   "source": [
    "import matplotlib"
   ]
  },
  {
   "cell_type": "code",
   "execution_count": 7,
   "id": "acdd9faa",
   "metadata": {},
   "outputs": [
    {
     "data": {
      "text/plain": [
       "('1.23.5', '3.6.2')"
      ]
     },
     "execution_count": 7,
     "metadata": {},
     "output_type": "execute_result"
    }
   ],
   "source": [
    "np.__version__, matplotlib.__version__"
   ]
  },
  {
   "cell_type": "code",
   "execution_count": 8,
   "id": "acb9fd28",
   "metadata": {},
   "outputs": [],
   "source": [
    "import re #re: 정규 표현식"
   ]
  },
  {
   "cell_type": "code",
   "execution_count": 9,
   "id": "1d5c41ef",
   "metadata": {},
   "outputs": [],
   "source": [
    "# 기호 .\n",
    "r = re.compile(\"a.c\")"
   ]
  },
  {
   "cell_type": "code",
   "execution_count": 10,
   "id": "8aad0d9a",
   "metadata": {},
   "outputs": [
    {
     "name": "stdout",
     "output_type": "stream",
     "text": [
      "None\n"
     ]
    }
   ],
   "source": [
    "print(r.search(\"qwerty\"))"
   ]
  },
  {
   "cell_type": "code",
   "execution_count": 11,
   "id": "a9247e96",
   "metadata": {},
   "outputs": [
    {
     "data": {
      "text/plain": [
       "<re.Match object; span=(0, 3), match='abc'>"
      ]
     },
     "execution_count": 11,
     "metadata": {},
     "output_type": "execute_result"
    }
   ],
   "source": [
    "r.search(\"abc\")"
   ]
  },
  {
   "cell_type": "code",
   "execution_count": 12,
   "id": "7aed067e",
   "metadata": {},
   "outputs": [],
   "source": [
    "r.search(\"abbc\")"
   ]
  },
  {
   "cell_type": "code",
   "execution_count": 13,
   "id": "b01a2a41",
   "metadata": {},
   "outputs": [
    {
     "data": {
      "text/plain": [
       "<re.Match object; span=(0, 4), match='abbc'>"
      ]
     },
     "execution_count": 13,
     "metadata": {},
     "output_type": "execute_result"
    }
   ],
   "source": [
    "# .을 추가한 새로운 정의\n",
    "r2 = re.compile(\"a..c\")\n",
    "r2.search(\"abbc\")"
   ]
  },
  {
   "cell_type": "code",
   "execution_count": 14,
   "id": "8cdc15b2",
   "metadata": {},
   "outputs": [],
   "source": [
    "# 기호 ? : 해당문자가 0개 또는 1개\n",
    "r = re.compile(\"ab?c\")"
   ]
  },
  {
   "cell_type": "code",
   "execution_count": 15,
   "id": "3348d7df",
   "metadata": {},
   "outputs": [
    {
     "data": {
      "text/plain": [
       "<re.Match object; span=(0, 3), match='abc'>"
      ]
     },
     "execution_count": 15,
     "metadata": {},
     "output_type": "execute_result"
    }
   ],
   "source": [
    "r.search(\"abc\")"
   ]
  },
  {
   "cell_type": "code",
   "execution_count": 16,
   "id": "c1c61953",
   "metadata": {},
   "outputs": [],
   "source": [
    "r.search(\"axc\")"
   ]
  },
  {
   "cell_type": "code",
   "execution_count": 17,
   "id": "89fb309e",
   "metadata": {},
   "outputs": [
    {
     "data": {
      "text/plain": [
       "<re.Match object; span=(0, 2), match='ac'>"
      ]
     },
     "execution_count": 17,
     "metadata": {},
     "output_type": "execute_result"
    }
   ],
   "source": [
    "r.search(\"ac\")"
   ]
  },
  {
   "cell_type": "code",
   "execution_count": 23,
   "id": "dc461285",
   "metadata": {},
   "outputs": [],
   "source": [
    "# 기호 * : 해당문자가 0개 이상\n",
    "r = re.compile(\"ab*c\")"
   ]
  },
  {
   "cell_type": "code",
   "execution_count": 24,
   "id": "fd327c31",
   "metadata": {},
   "outputs": [
    {
     "data": {
      "text/plain": [
       "<re.Match object; span=(0, 2), match='ac'>"
      ]
     },
     "execution_count": 24,
     "metadata": {},
     "output_type": "execute_result"
    }
   ],
   "source": [
    "r.search(\"ac\")"
   ]
  },
  {
   "cell_type": "code",
   "execution_count": 25,
   "id": "31c5eabe",
   "metadata": {},
   "outputs": [
    {
     "data": {
      "text/plain": [
       "<re.Match object; span=(0, 3), match='abc'>"
      ]
     },
     "execution_count": 25,
     "metadata": {},
     "output_type": "execute_result"
    }
   ],
   "source": [
    "r.search(\"abc\")"
   ]
  },
  {
   "cell_type": "code",
   "execution_count": 26,
   "id": "c9c0c667",
   "metadata": {},
   "outputs": [
    {
     "data": {
      "text/plain": [
       "<re.Match object; span=(0, 4), match='abbc'>"
      ]
     },
     "execution_count": 26,
     "metadata": {},
     "output_type": "execute_result"
    }
   ],
   "source": [
    "r.search(\"abbc\")"
   ]
  },
  {
   "cell_type": "code",
   "execution_count": 27,
   "id": "fd353d12",
   "metadata": {},
   "outputs": [],
   "source": [
    "r.search(\"axc\")"
   ]
  },
  {
   "cell_type": "code",
   "execution_count": 28,
   "id": "48229a35",
   "metadata": {},
   "outputs": [],
   "source": [
    "# 기호 + : 해당문자가 1개 이상\n",
    "r = re.compile(\"ab+c\")"
   ]
  },
  {
   "cell_type": "code",
   "execution_count": 29,
   "id": "dd003973",
   "metadata": {},
   "outputs": [],
   "source": [
    "r.search(\"ac\")"
   ]
  },
  {
   "cell_type": "code",
   "execution_count": 30,
   "id": "3fc025cc",
   "metadata": {},
   "outputs": [
    {
     "data": {
      "text/plain": [
       "<re.Match object; span=(0, 3), match='abc'>"
      ]
     },
     "execution_count": 30,
     "metadata": {},
     "output_type": "execute_result"
    }
   ],
   "source": [
    "r.search(\"abc\")"
   ]
  },
  {
   "cell_type": "code",
   "execution_count": 31,
   "id": "f82fda1a",
   "metadata": {},
   "outputs": [
    {
     "data": {
      "text/plain": [
       "<re.Match object; span=(0, 4), match='abbc'>"
      ]
     },
     "execution_count": 31,
     "metadata": {},
     "output_type": "execute_result"
    }
   ],
   "source": [
    "r.search(\"abbc\")"
   ]
  },
  {
   "cell_type": "code",
   "execution_count": 32,
   "id": "5c81d40e",
   "metadata": {},
   "outputs": [],
   "source": [
    "r.search(\"axc\")"
   ]
  },
  {
   "cell_type": "code",
   "execution_count": 33,
   "id": "aba1e2d2",
   "metadata": {},
   "outputs": [],
   "source": [
    "# 기호 ^ : 해당문자(열)로 시작\n",
    "r = re.compile(\"^ab\")"
   ]
  },
  {
   "cell_type": "code",
   "execution_count": 34,
   "id": "6f36b5fa",
   "metadata": {},
   "outputs": [
    {
     "data": {
      "text/plain": [
       "<re.Match object; span=(0, 2), match='ab'>"
      ]
     },
     "execution_count": 34,
     "metadata": {},
     "output_type": "execute_result"
    }
   ],
   "source": [
    "r.search(\"ab\")"
   ]
  },
  {
   "cell_type": "code",
   "execution_count": 35,
   "id": "f1535c32",
   "metadata": {},
   "outputs": [
    {
     "data": {
      "text/plain": [
       "<re.Match object; span=(0, 2), match='ab'>"
      ]
     },
     "execution_count": 35,
     "metadata": {},
     "output_type": "execute_result"
    }
   ],
   "source": [
    "r.search(\"abc\")"
   ]
  },
  {
   "cell_type": "code",
   "execution_count": 36,
   "id": "aae602fd",
   "metadata": {},
   "outputs": [
    {
     "data": {
      "text/plain": [
       "<re.Match object; span=(0, 2), match='ab'>"
      ]
     },
     "execution_count": 36,
     "metadata": {},
     "output_type": "execute_result"
    }
   ],
   "source": [
    "r.search(\"abb\")"
   ]
  },
  {
   "cell_type": "code",
   "execution_count": 37,
   "id": "620d8afe",
   "metadata": {},
   "outputs": [],
   "source": [
    "r.search(\"aab\")"
   ]
  },
  {
   "cell_type": "code",
   "execution_count": 38,
   "id": "b7694c1a",
   "metadata": {},
   "outputs": [],
   "source": [
    "# 기호 {숫자} : 해당숫자만큼만 있음\n",
    "r = re.compile(\"ab{2}c\")"
   ]
  },
  {
   "cell_type": "code",
   "execution_count": 39,
   "id": "e3023815",
   "metadata": {},
   "outputs": [],
   "source": [
    "r.search(\"ac\")"
   ]
  },
  {
   "cell_type": "code",
   "execution_count": 40,
   "id": "011567dc",
   "metadata": {},
   "outputs": [],
   "source": [
    "r.search(\"abc\")"
   ]
  },
  {
   "cell_type": "code",
   "execution_count": 41,
   "id": "e35f6f49",
   "metadata": {},
   "outputs": [
    {
     "data": {
      "text/plain": [
       "<re.Match object; span=(0, 4), match='abbc'>"
      ]
     },
     "execution_count": 41,
     "metadata": {},
     "output_type": "execute_result"
    }
   ],
   "source": [
    "r.search(\"abbc\")"
   ]
  },
  {
   "cell_type": "code",
   "execution_count": 42,
   "id": "0583318a",
   "metadata": {},
   "outputs": [],
   "source": [
    "# 기호 {숫자, 숫자} : 숫자범위이내만큼 있음\n",
    "r = re.compile(\"ab{2,4}c\")"
   ]
  },
  {
   "cell_type": "code",
   "execution_count": 43,
   "id": "64adcc21",
   "metadata": {},
   "outputs": [],
   "source": [
    "r.search(\"abc\")"
   ]
  },
  {
   "cell_type": "code",
   "execution_count": 44,
   "id": "12d5ae7b",
   "metadata": {},
   "outputs": [
    {
     "data": {
      "text/plain": [
       "<re.Match object; span=(0, 4), match='abbc'>"
      ]
     },
     "execution_count": 44,
     "metadata": {},
     "output_type": "execute_result"
    }
   ],
   "source": [
    "r.search(\"abbc\")"
   ]
  },
  {
   "cell_type": "code",
   "execution_count": 45,
   "id": "0c16db5f",
   "metadata": {},
   "outputs": [
    {
     "data": {
      "text/plain": [
       "<re.Match object; span=(0, 5), match='abbbc'>"
      ]
     },
     "execution_count": 45,
     "metadata": {},
     "output_type": "execute_result"
    }
   ],
   "source": [
    "r.search(\"abbbc\")"
   ]
  },
  {
   "cell_type": "code",
   "execution_count": 46,
   "id": "fe487ceb",
   "metadata": {},
   "outputs": [
    {
     "data": {
      "text/plain": [
       "<re.Match object; span=(0, 6), match='abbbbc'>"
      ]
     },
     "execution_count": 46,
     "metadata": {},
     "output_type": "execute_result"
    }
   ],
   "source": [
    "r.search(\"abbbbc\")"
   ]
  },
  {
   "cell_type": "code",
   "execution_count": 47,
   "id": "637dd6e1",
   "metadata": {},
   "outputs": [],
   "source": [
    "r.search(\"abbbbbc\")"
   ]
  },
  {
   "cell_type": "code",
   "execution_count": 48,
   "id": "bcf60809",
   "metadata": {},
   "outputs": [],
   "source": [
    "# 기호 {숫자, } : 숫자이상만큼 있음\n",
    "r = re.compile(\"ab{2,}c\")"
   ]
  },
  {
   "cell_type": "code",
   "execution_count": 49,
   "id": "c79eb83f",
   "metadata": {},
   "outputs": [],
   "source": [
    "r.search(\"abc\")"
   ]
  },
  {
   "cell_type": "code",
   "execution_count": 50,
   "id": "72ed0477",
   "metadata": {},
   "outputs": [
    {
     "data": {
      "text/plain": [
       "<re.Match object; span=(0, 4), match='abbc'>"
      ]
     },
     "execution_count": 50,
     "metadata": {},
     "output_type": "execute_result"
    }
   ],
   "source": [
    "r.search(\"abbc\")"
   ]
  },
  {
   "cell_type": "code",
   "execution_count": 51,
   "id": "c3ce38e1",
   "metadata": {},
   "outputs": [
    {
     "data": {
      "text/plain": [
       "<re.Match object; span=(0, 7), match='abbbbbc'>"
      ]
     },
     "execution_count": 51,
     "metadata": {},
     "output_type": "execute_result"
    }
   ],
   "source": [
    "r.search(\"abbbbbc\")"
   ]
  },
  {
   "cell_type": "code",
   "execution_count": 53,
   "id": "8c14932e",
   "metadata": {},
   "outputs": [],
   "source": [
    "# 기호 [-] : 해당문자들 사이에 해당되는 문자가 존재\n",
    "r = re.compile(\"[b-e]\")"
   ]
  },
  {
   "cell_type": "code",
   "execution_count": 54,
   "id": "2d8db28b",
   "metadata": {},
   "outputs": [
    {
     "data": {
      "text/plain": [
       "<re.Match object; span=(1, 2), match='b'>"
      ]
     },
     "execution_count": 54,
     "metadata": {},
     "output_type": "execute_result"
    }
   ],
   "source": [
    "r.search(\"abcdefghi\")"
   ]
  },
  {
   "cell_type": "code",
   "execution_count": 55,
   "id": "cc76ae45",
   "metadata": {},
   "outputs": [
    {
     "data": {
      "text/plain": [
       "<re.Match object; span=(0, 1), match='d'>"
      ]
     },
     "execution_count": 55,
     "metadata": {},
     "output_type": "execute_result"
    }
   ],
   "source": [
    "r.search(\"defghijklmn\")"
   ]
  },
  {
   "cell_type": "code",
   "execution_count": 56,
   "id": "e7a086db",
   "metadata": {},
   "outputs": [
    {
     "data": {
      "text/plain": [
       "<re.Match object; span=(0, 1), match='e'>"
      ]
     },
     "execution_count": 56,
     "metadata": {},
     "output_type": "execute_result"
    }
   ],
   "source": [
    "r.search(\"efghijklmn\")"
   ]
  },
  {
   "cell_type": "code",
   "execution_count": 57,
   "id": "8d593f46",
   "metadata": {},
   "outputs": [],
   "source": [
    "r.search(\"fghijklmn\")"
   ]
  },
  {
   "cell_type": "code",
   "execution_count": 59,
   "id": "6dcac776",
   "metadata": {},
   "outputs": [],
   "source": [
    "# 기호 [^ ] : ^이후 제외\n",
    "r = re.compile(\"[^bcd]\")"
   ]
  },
  {
   "cell_type": "code",
   "execution_count": 60,
   "id": "c4bc7cdd",
   "metadata": {},
   "outputs": [
    {
     "data": {
      "text/plain": [
       "<re.Match object; span=(0, 1), match='a'>"
      ]
     },
     "execution_count": 60,
     "metadata": {},
     "output_type": "execute_result"
    }
   ],
   "source": [
    "r.search(\"a\")"
   ]
  },
  {
   "cell_type": "code",
   "execution_count": 61,
   "id": "34f74948",
   "metadata": {},
   "outputs": [],
   "source": [
    "r.search(\"bcd\")"
   ]
  },
  {
   "cell_type": "code",
   "execution_count": 62,
   "id": "efd10899",
   "metadata": {},
   "outputs": [
    {
     "data": {
      "text/plain": [
       "<re.Match object; span=(0, 1), match='a'>"
      ]
     },
     "execution_count": 62,
     "metadata": {},
     "output_type": "execute_result"
    }
   ],
   "source": [
    "r.search(\"abcd\")"
   ]
  },
  {
   "cell_type": "code",
   "execution_count": 63,
   "id": "74ae0e7a",
   "metadata": {},
   "outputs": [
    {
     "data": {
      "text/plain": [
       "<re.Match object; span=(3, 4), match='e'>"
      ]
     },
     "execution_count": 63,
     "metadata": {},
     "output_type": "execute_result"
    }
   ],
   "source": [
    "r.search(\"bcde\")"
   ]
  },
  {
   "cell_type": "code",
   "execution_count": 65,
   "id": "788daa04",
   "metadata": {},
   "outputs": [],
   "source": [
    "# 기호 [^ ] : ^이후 제외\n",
    "r = re.compile(\"[^abcd]\")"
   ]
  },
  {
   "cell_type": "code",
   "execution_count": 66,
   "id": "c4ca2092",
   "metadata": {},
   "outputs": [],
   "source": [
    "r.search(\"bcd\")"
   ]
  },
  {
   "cell_type": "code",
   "execution_count": 67,
   "id": "0c8efe32",
   "metadata": {},
   "outputs": [],
   "source": [
    "r.search(\"abcd\")"
   ]
  },
  {
   "cell_type": "code",
   "execution_count": 68,
   "id": "160793ae",
   "metadata": {},
   "outputs": [],
   "source": [
    "# re.match vs. re.search"
   ]
  },
  {
   "cell_type": "code",
   "execution_count": 76,
   "id": "abaec80d",
   "metadata": {},
   "outputs": [],
   "source": [
    "r = re.compile(\"ab.\")"
   ]
  },
  {
   "cell_type": "code",
   "execution_count": 77,
   "id": "5759b236",
   "metadata": {},
   "outputs": [],
   "source": [
    "r.match(\"tttabc\")"
   ]
  },
  {
   "cell_type": "code",
   "execution_count": 78,
   "id": "f2f56e92",
   "metadata": {},
   "outputs": [
    {
     "data": {
      "text/plain": [
       "<re.Match object; span=(0, 3), match='abc'>"
      ]
     },
     "execution_count": 78,
     "metadata": {},
     "output_type": "execute_result"
    }
   ],
   "source": [
    "r.match(\"abcttt\") # match : 처음부터 조사"
   ]
  },
  {
   "cell_type": "code",
   "execution_count": 79,
   "id": "deb01c3a",
   "metadata": {},
   "outputs": [],
   "source": [
    "r.match(\"tttabc\")"
   ]
  },
  {
   "cell_type": "code",
   "execution_count": 80,
   "id": "80a88b56",
   "metadata": {},
   "outputs": [
    {
     "data": {
      "text/plain": [
       "<re.Match object; span=(3, 6), match='abc'>"
      ]
     },
     "execution_count": 80,
     "metadata": {},
     "output_type": "execute_result"
    }
   ],
   "source": [
    "r.search(\"tttabc\") # search : 텍스트 전체를 보고 정규식(compile)을 조사함"
   ]
  },
  {
   "cell_type": "code",
   "execution_count": 81,
   "id": "3dc7d55a",
   "metadata": {},
   "outputs": [
    {
     "data": {
      "text/plain": [
       "<re.Match object; span=(0, 3), match='abc'>"
      ]
     },
     "execution_count": 81,
     "metadata": {},
     "output_type": "execute_result"
    }
   ],
   "source": [
    "r.search(\"abcttt\")"
   ]
  },
  {
   "cell_type": "code",
   "execution_count": 82,
   "id": "243d9ad7",
   "metadata": {},
   "outputs": [],
   "source": [
    "# 텍스트 분해\n",
    "text=\"중국 외교부는 중국 만을 대상으로 입국 제한 조치를 취한 것은 과학적 근거가 부족하다며 받아들일 수 없다고 비난했습니다.\""
   ]
  },
  {
   "cell_type": "code",
   "execution_count": 83,
   "id": "ccff4f31",
   "metadata": {},
   "outputs": [
    {
     "data": {
      "text/plain": [
       "['중국',\n",
       " '외교부는',\n",
       " '중국',\n",
       " '만을',\n",
       " '대상으로',\n",
       " '입국',\n",
       " '제한',\n",
       " '조치를',\n",
       " '취한',\n",
       " '것은',\n",
       " '과학적',\n",
       " '근거가',\n",
       " '부족하다며',\n",
       " '받아들일',\n",
       " '수',\n",
       " '없다고',\n",
       " '비난했습니다.']"
      ]
     },
     "execution_count": 83,
     "metadata": {},
     "output_type": "execute_result"
    }
   ],
   "source": [
    "text.split()"
   ]
  },
  {
   "cell_type": "code",
   "execution_count": 84,
   "id": "d69d5165",
   "metadata": {},
   "outputs": [
    {
     "data": {
      "text/plain": [
       "['중국',\n",
       " '외교부는',\n",
       " '중국',\n",
       " '만을',\n",
       " '대상으로',\n",
       " '입국',\n",
       " '제한',\n",
       " '조치를',\n",
       " '취한',\n",
       " '것은',\n",
       " '과학적',\n",
       " '근거가',\n",
       " '부족하다며',\n",
       " '받아들일',\n",
       " '수',\n",
       " '없다고',\n",
       " '비난했습니다.']"
      ]
     },
     "execution_count": 84,
     "metadata": {},
     "output_type": "execute_result"
    }
   ],
   "source": [
    "re.split(\" \", text)"
   ]
  },
  {
   "cell_type": "code",
   "execution_count": 88,
   "id": "63234d64",
   "metadata": {},
   "outputs": [
    {
     "data": {
      "text/plain": [
       "['안녕', '나는', '뽀로로야']"
      ]
     },
     "execution_count": 88,
     "metadata": {},
     "output_type": "execute_result"
    }
   ],
   "source": [
    "text2 = \"안녕+나는+뽀로로야\"\n",
    "re.split(\"\\+\", text2)"
   ]
  },
  {
   "cell_type": "code",
   "execution_count": 89,
   "id": "f8602d86",
   "metadata": {},
   "outputs": [
    {
     "data": {
      "text/plain": [
       "['안녕', '나는', '뽀로로야']"
      ]
     },
     "execution_count": 89,
     "metadata": {},
     "output_type": "execute_result"
    }
   ],
   "source": [
    "text2.split(\"+\")"
   ]
  },
  {
   "cell_type": "code",
   "execution_count": 90,
   "id": "dc9b9a5a",
   "metadata": {},
   "outputs": [
    {
     "data": {
      "text/plain": [
       "'    TV                   jebo  '"
      ]
     },
     "execution_count": 90,
     "metadata": {},
     "output_type": "execute_result"
    }
   ],
   "source": [
    "text3 = \"연합뉴스TV 기사문의 및 제보 : 카톡/라인 jebo23\"\n",
    "re_res = re.sub(\"[^a-zA-Z]\", ' ', text3)\n",
    "re_res"
   ]
  },
  {
   "cell_type": "code",
   "execution_count": null,
   "id": "1de1cdf8",
   "metadata": {},
   "outputs": [],
   "source": []
  },
  {
   "cell_type": "code",
   "execution_count": null,
   "id": "8da4803c",
   "metadata": {},
   "outputs": [],
   "source": []
  },
  {
   "cell_type": "code",
   "execution_count": null,
   "id": "e69df5d9",
   "metadata": {},
   "outputs": [],
   "source": []
  },
  {
   "cell_type": "code",
   "execution_count": null,
   "id": "18fc8d38",
   "metadata": {},
   "outputs": [],
   "source": []
  },
  {
   "cell_type": "code",
   "execution_count": null,
   "id": "7fd7ef71",
   "metadata": {},
   "outputs": [],
   "source": []
  },
  {
   "cell_type": "code",
   "execution_count": null,
   "id": "f7a71440",
   "metadata": {},
   "outputs": [],
   "source": []
  }
 ],
 "metadata": {
  "kernelspec": {
   "display_name": "Python 3 (ipykernel)",
   "language": "python",
   "name": "python3"
  },
  "language_info": {
   "codemirror_mode": {
    "name": "ipython",
    "version": 3
   },
   "file_extension": ".py",
   "mimetype": "text/x-python",
   "name": "python",
   "nbconvert_exporter": "python",
   "pygments_lexer": "ipython3",
   "version": "3.8.15"
  }
 },
 "nbformat": 4,
 "nbformat_minor": 5
}
