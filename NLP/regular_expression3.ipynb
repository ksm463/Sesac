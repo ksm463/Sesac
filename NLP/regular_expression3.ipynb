{
 "cells": [
  {
   "cell_type": "code",
   "execution_count": 1,
   "id": "a00155bc",
   "metadata": {},
   "outputs": [],
   "source": [
    "import numpy as np\n",
    "import pandas as pd"
   ]
  },
  {
   "cell_type": "code",
   "execution_count": 70,
   "id": "22e7225c",
   "metadata": {},
   "outputs": [],
   "source": [
    "import nltk\n",
    "import sklearn\n",
    "from nltk.corpus import stopwords\n",
    "from nltk.tokenize import word_tokenize\n",
    "from konlpy.tag import Okt\n",
    "\n",
    "from nltk.tokenize import WordPunctTokenizer\n",
    "from nltk.tokenize import sent_tokenize\n",
    "\n",
    "from tensorflow.keras.preprocessing.text import text_to_word_sequence"
   ]
  },
  {
   "cell_type": "code",
   "execution_count": 3,
   "id": "cea35ba1",
   "metadata": {},
   "outputs": [],
   "source": [
    "text = \"\"\"다 잊었다는 거짓말\n",
    "또 해 버렸죠\n",
    "내 마음에 그대란 사람\n",
    "없다고 했죠\n",
    "너무나 쉽게 잊혀졌다고\n",
    "이젠 남이라고\n",
    "서툰 내 사랑에 지쳐 떠난 그대\n",
    "너무 많이 울려서\n",
    "잡을 용기조차 낼 수 없었죠\n",
    "미안해요 내 사랑아\n",
    "다신 나 같은 사람 만나지 마요\n",
    "혹시 찾아가도 두 번 다시\n",
    "나를 허락해 주지 마요\n",
    "그댄 여리고 너무 착해서\n",
    "싫단 말도 잘 못하는데\n",
    "많이 부족한 나를 사랑한 그대\n",
    "이거면 됐어요 더 이상은\n",
    "그대 불행하지 않도록\n",
    "나 이쯤에서 없어지는 게\n",
    "그댈 위한 나의 사랑인 걸요\n",
    "너무 투명해서 때론 불안했죠\n",
    "제멋대로 살아온 나를\n",
    "감당할 수 없을 것 같죠\n",
    "미안해요 내 사랑아\n",
    "다신 나 같은 사람 만나지 마요\n",
    "혹시 찾아가도 두 번 다시\n",
    "나를 허락해 주지 마요\n",
    "그댄 여리고 너무 착해서\n",
    "싫단 말도 잘 못하는데\n",
    "고마웠어요 나를 사랑해 줘서\n",
    "나 같은 사람이 두 번 다시\n",
    "감히 받을 수 없는 사랑\n",
    "그대 때문에 행복했어요\n",
    "울지 마요 그대\n",
    "잘 생각해 봐요\n",
    "나쁜 일들만 가득했던 우리\n",
    "다 잊어야 해요\n",
    "다신 나 같은 사람 만나지 마요\n",
    "혹시 찾아가도 두 번 다시\n",
    "나를 허락해 주지 마요\n",
    "그댄 여리고 너무 착해서\n",
    "싫단 말도 잘 못하는데\n",
    "많이 부족한 나를 사랑한 그대\n",
    "이거면 됐어요\n",
    "더 이상은 그대 불행하지 않도록\n",
    "나 이쯤에서 없어지는 게\n",
    "그댈 위한 나의 사랑인 걸요\n",
    "\"\"\""
   ]
  },
  {
   "cell_type": "code",
   "execution_count": 4,
   "id": "0a79bba7",
   "metadata": {},
   "outputs": [],
   "source": [
    "# 한글 쪼개기 (토큰화)\n",
    "okt = Okt()\n",
    "text = text.replace(\"\\n\", \" \") # 데이터 정제\n",
    "text1 = okt.morphs(text)"
   ]
  },
  {
   "cell_type": "code",
   "execution_count": 5,
   "id": "4bdbd451",
   "metadata": {},
   "outputs": [
    {
     "name": "stdout",
     "output_type": "stream",
     "text": [
      "['거짓말', '버렸죠', '마음', '대란', '사람', '없다고', '했죠', '너무나', '쉽게', '이라고', '서툰', '사랑', '지쳐', '떠난', '그대', '너무', '많이', '울려서', '용기', '조차', '없었죠', '사랑', '다신', '같은', '사람', '만나지', '혹시', '다시', '나를', '허락', '주지', '여리고', '너무', '착해서', '싫단', '하는데', '많이', '부족한', '나를', '사랑', '그대', '됐어요', '이상은', '그대', '않도록', '이쯤', '에서', '사랑', '너무', '때론', '살아온', '나를', '감당', '없을', '같죠', '사랑', '다신', '같은', '사람', '만나지', '혹시', '다시', '나를', '허락', '주지', '여리고', '너무', '착해서', '싫단', '하는데', '나를', '사랑', '줘서', '같은', '사람', '다시', '감히', '받을', '없는', '사랑', '그대', '때문', '그대', '생각', '봐요', '나쁜', '우리', '잊어야', '다신', '같은', '사람', '만나지', '혹시', '다시', '나를', '허락', '주지', '여리고', '너무', '착해서', '싫단', '하는데', '많이', '부족한', '나를', '사랑', '그대', '됐어요', '이상은', '그대', '않도록', '이쯤', '에서', '사랑']\n"
     ]
    }
   ],
   "source": [
    "# 두 글자 이상의 문자들을 선별해서 담아줌\n",
    "text2 = []\n",
    "for word in text1:\n",
    "    if 4 > len(word) > 1: # 조사와 지시대명사 다 날려버림\n",
    "        text2.append(word)\n",
    "print(text2)"
   ]
  },
  {
   "cell_type": "code",
   "execution_count": 6,
   "id": "fa2e075d",
   "metadata": {},
   "outputs": [
    {
     "data": {
      "text/plain": [
       "(114, 54)"
      ]
     },
     "execution_count": 6,
     "metadata": {},
     "output_type": "execute_result"
    }
   ],
   "source": [
    "len(text2), len(set(text2))"
   ]
  },
  {
   "cell_type": "code",
   "execution_count": 7,
   "id": "c4b3fa87",
   "metadata": {},
   "outputs": [
    {
     "data": {
      "text/plain": [
       "{'거짓말': 1,\n",
       " '버렸죠': 1,\n",
       " '마음': 1,\n",
       " '대란': 1,\n",
       " '사람': 5,\n",
       " '없다고': 1,\n",
       " '했죠': 1,\n",
       " '너무나': 1,\n",
       " '쉽게': 1,\n",
       " '이라고': 1,\n",
       " '서툰': 1,\n",
       " '사랑': 9,\n",
       " '지쳐': 1,\n",
       " '떠난': 1,\n",
       " '그대': 7,\n",
       " '너무': 5,\n",
       " '많이': 3,\n",
       " '울려서': 1,\n",
       " '용기': 1,\n",
       " '조차': 1,\n",
       " '없었죠': 1,\n",
       " '다신': 3,\n",
       " '같은': 4,\n",
       " '만나지': 3,\n",
       " '혹시': 3,\n",
       " '다시': 4,\n",
       " '나를': 7,\n",
       " '허락': 3,\n",
       " '주지': 3,\n",
       " '여리고': 3,\n",
       " '착해서': 3,\n",
       " '싫단': 3,\n",
       " '하는데': 3,\n",
       " '부족한': 2,\n",
       " '됐어요': 2,\n",
       " '이상은': 2,\n",
       " '않도록': 2,\n",
       " '이쯤': 2,\n",
       " '에서': 2,\n",
       " '때론': 1,\n",
       " '살아온': 1,\n",
       " '감당': 1,\n",
       " '없을': 1,\n",
       " '같죠': 1,\n",
       " '줘서': 1,\n",
       " '감히': 1,\n",
       " '받을': 1,\n",
       " '없는': 1,\n",
       " '때문': 1,\n",
       " '생각': 1,\n",
       " '봐요': 1,\n",
       " '나쁜': 1,\n",
       " '우리': 1,\n",
       " '잊어야': 1}"
      ]
     },
     "execution_count": 7,
     "metadata": {},
     "output_type": "execute_result"
    }
   ],
   "source": [
    "# 키를 추가해줌\n",
    "vocab = {}\n",
    "for word in text2: # for 문을 돌리면서 처음 만난 단어라면 \n",
    "    if word not in vocab: \n",
    "        vocab[word] = 0 # vocab 이라는 딕셔너리에 key와 value값 넣어준다\n",
    "    vocab[word] += 1\n",
    "vocab"
   ]
  },
  {
   "cell_type": "code",
   "execution_count": 8,
   "id": "282adc15",
   "metadata": {},
   "outputs": [
    {
     "data": {
      "text/plain": [
       "dict_items([('거짓말', 1), ('버렸죠', 1), ('마음', 1), ('대란', 1), ('사람', 5), ('없다고', 1), ('했죠', 1), ('너무나', 1), ('쉽게', 1), ('이라고', 1), ('서툰', 1), ('사랑', 9), ('지쳐', 1), ('떠난', 1), ('그대', 7), ('너무', 5), ('많이', 3), ('울려서', 1), ('용기', 1), ('조차', 1), ('없었죠', 1), ('다신', 3), ('같은', 4), ('만나지', 3), ('혹시', 3), ('다시', 4), ('나를', 7), ('허락', 3), ('주지', 3), ('여리고', 3), ('착해서', 3), ('싫단', 3), ('하는데', 3), ('부족한', 2), ('됐어요', 2), ('이상은', 2), ('않도록', 2), ('이쯤', 2), ('에서', 2), ('때론', 1), ('살아온', 1), ('감당', 1), ('없을', 1), ('같죠', 1), ('줘서', 1), ('감히', 1), ('받을', 1), ('없는', 1), ('때문', 1), ('생각', 1), ('봐요', 1), ('나쁜', 1), ('우리', 1), ('잊어야', 1)])"
      ]
     },
     "execution_count": 8,
     "metadata": {},
     "output_type": "execute_result"
    }
   ],
   "source": [
    "vocab.items()"
   ]
  },
  {
   "cell_type": "code",
   "execution_count": 9,
   "id": "33442dd4",
   "metadata": {},
   "outputs": [
    {
     "data": {
      "text/plain": [
       "[('사랑', 9),\n",
       " ('그대', 7),\n",
       " ('나를', 7),\n",
       " ('사람', 5),\n",
       " ('너무', 5),\n",
       " ('같은', 4),\n",
       " ('다시', 4),\n",
       " ('많이', 3),\n",
       " ('다신', 3),\n",
       " ('만나지', 3),\n",
       " ('혹시', 3),\n",
       " ('허락', 3),\n",
       " ('주지', 3),\n",
       " ('여리고', 3),\n",
       " ('착해서', 3),\n",
       " ('싫단', 3),\n",
       " ('하는데', 3),\n",
       " ('부족한', 2),\n",
       " ('됐어요', 2),\n",
       " ('이상은', 2),\n",
       " ('않도록', 2),\n",
       " ('이쯤', 2),\n",
       " ('에서', 2),\n",
       " ('거짓말', 1),\n",
       " ('버렸죠', 1),\n",
       " ('마음', 1),\n",
       " ('대란', 1),\n",
       " ('없다고', 1),\n",
       " ('했죠', 1),\n",
       " ('너무나', 1),\n",
       " ('쉽게', 1),\n",
       " ('이라고', 1),\n",
       " ('서툰', 1),\n",
       " ('지쳐', 1),\n",
       " ('떠난', 1),\n",
       " ('울려서', 1),\n",
       " ('용기', 1),\n",
       " ('조차', 1),\n",
       " ('없었죠', 1),\n",
       " ('때론', 1),\n",
       " ('살아온', 1),\n",
       " ('감당', 1),\n",
       " ('없을', 1),\n",
       " ('같죠', 1),\n",
       " ('줘서', 1),\n",
       " ('감히', 1),\n",
       " ('받을', 1),\n",
       " ('없는', 1),\n",
       " ('때문', 1),\n",
       " ('생각', 1),\n",
       " ('봐요', 1),\n",
       " ('나쁜', 1),\n",
       " ('우리', 1),\n",
       " ('잊어야', 1)]"
      ]
     },
     "execution_count": 9,
     "metadata": {},
     "output_type": "execute_result"
    }
   ],
   "source": [
    "# 정렬의 기준을 정한다\n",
    "vocab_sorted = sorted(vocab.items(), key = lambda x:x[1], reverse=True)\n",
    "vocab_sorted"
   ]
  },
  {
   "cell_type": "code",
   "execution_count": 10,
   "id": "40dd064c",
   "metadata": {},
   "outputs": [
    {
     "data": {
      "text/plain": [
       "{'사랑': 1,\n",
       " '그대': 2,\n",
       " '나를': 3,\n",
       " '사람': 4,\n",
       " '너무': 5,\n",
       " '같은': 6,\n",
       " '다시': 7,\n",
       " '많이': 8,\n",
       " '다신': 9,\n",
       " '만나지': 10,\n",
       " '혹시': 11,\n",
       " '허락': 12,\n",
       " '주지': 13,\n",
       " '여리고': 14,\n",
       " '착해서': 15,\n",
       " '싫단': 16,\n",
       " '하는데': 17,\n",
       " '부족한': 18,\n",
       " '됐어요': 19,\n",
       " '이상은': 20,\n",
       " '않도록': 21,\n",
       " '이쯤': 22,\n",
       " '에서': 23}"
      ]
     },
     "execution_count": 10,
     "metadata": {},
     "output_type": "execute_result"
    }
   ],
   "source": [
    "# 빈도수가 높은 단어만 선별 (2개 이상)\n",
    "word_to_index = {}\n",
    "i = 0\n",
    "for (word, freq) in vocab_sorted: # 워드, 빈도수가 vocab_sorted 여기에서 높은거 추출\n",
    "    if freq > 1: # 2번 이상 반복되는 것들을 순서대로 레이블 인코딩\n",
    "        i += 1\n",
    "        word_to_index[word] = i\n",
    "word_to_index"
   ]
  },
  {
   "cell_type": "code",
   "execution_count": 11,
   "id": "f4f45601",
   "metadata": {},
   "outputs": [
    {
     "data": {
      "text/plain": [
       "\"\\n ('사랑', 9),\\n ('그대', 7),\\n ('나를', 7),\\n ('사람', 5),\\n ('너무', 5),\\n\""
      ]
     },
     "execution_count": 11,
     "metadata": {},
     "output_type": "execute_result"
    }
   ],
   "source": [
    "# `말뭉치(Corpus)` : 언어학에서 (여러 언어의) 텍스트 집합\n",
    "# 여기까지의 과정이 아래와 같은 말뭉치를 직접 만들어 보는 과정\n",
    "\"\"\"\n",
    " ('사랑', 9),\n",
    " ('그대', 7),\n",
    " ('나를', 7),\n",
    " ('사람', 5),\n",
    " ('너무', 5),\n",
    "\"\"\""
   ]
  },
  {
   "cell_type": "code",
   "execution_count": 12,
   "id": "6c5a35c4",
   "metadata": {},
   "outputs": [
    {
     "data": {
      "text/plain": [
       "['같은',\n",
       " '다시',\n",
       " '많이',\n",
       " '다신',\n",
       " '만나지',\n",
       " '혹시',\n",
       " '허락',\n",
       " '주지',\n",
       " '여리고',\n",
       " '착해서',\n",
       " '싫단',\n",
       " '하는데',\n",
       " '부족한',\n",
       " '됐어요',\n",
       " '이상은',\n",
       " '않도록',\n",
       " '이쯤',\n",
       " '에서']"
      ]
     },
     "execution_count": 12,
     "metadata": {},
     "output_type": "execute_result"
    }
   ],
   "source": [
    "# 5위 밖의 단어들 세기\n",
    "vocab_size=5\n",
    "word_freq_cut = [ word for word, index in word_to_index.items() if index >=vocab_size + 1]\n",
    "word_freq_cut"
   ]
  },
  {
   "cell_type": "code",
   "execution_count": 13,
   "id": "13c2510d",
   "metadata": {},
   "outputs": [
    {
     "name": "stdout",
     "output_type": "stream",
     "text": [
      "{'사랑': 1, '그대': 2, '나를': 3, '사람': 4, '너무': 5, '같은': 6, '다시': 7, '많이': 8, '다신': 9, '만나지': 10, '혹시': 11, '허락': 12, '주지': 13, '여리고': 14, '착해서': 15, '싫단': 16, '하는데': 17, '부족한': 18, '됐어요': 19, '이상은': 20, '않도록': 21, '이쯤': 22, '에서': 23}\n",
      "{'사랑': 1, '그대': 2, '나를': 3, '사람': 4, '너무': 5}\n"
     ]
    }
   ],
   "source": [
    "# 말뭉치에서 빈도 수 5위까지 남기기\n",
    "print(word_to_index)\n",
    "for w in word_freq_cut:\n",
    "    del word_to_index[w]\n",
    "print(word_to_index)"
   ]
  },
  {
   "cell_type": "code",
   "execution_count": 14,
   "id": "a831b789",
   "metadata": {},
   "outputs": [
    {
     "name": "stdout",
     "output_type": "stream",
     "text": [
      "{'사랑': 1, '그대': 2, '나를': 3, '사람': 4, '너무': 5, '기타': 6}\n"
     ]
    }
   ],
   "source": [
    "word_to_index[\"기타\"] = len(word_to_index) + 1\n",
    "print(word_to_index)"
   ]
  },
  {
   "cell_type": "code",
   "execution_count": 15,
   "id": "26d16f83",
   "metadata": {},
   "outputs": [
    {
     "data": {
      "text/plain": [
       "1"
      ]
     },
     "execution_count": 15,
     "metadata": {},
     "output_type": "execute_result"
    }
   ],
   "source": [
    "word_to_index[\"사랑\"]"
   ]
  },
  {
   "cell_type": "code",
   "execution_count": 16,
   "id": "d2584303",
   "metadata": {},
   "outputs": [
    {
     "data": {
      "text/plain": [
       "2"
      ]
     },
     "execution_count": 16,
     "metadata": {},
     "output_type": "execute_result"
    }
   ],
   "source": [
    "word_to_index[\"그대\"]"
   ]
  },
  {
   "cell_type": "code",
   "execution_count": 17,
   "id": "8b2ea414",
   "metadata": {},
   "outputs": [
    {
     "data": {
      "text/plain": [
       "[6,\n",
       " 6,\n",
       " 6,\n",
       " 6,\n",
       " 6,\n",
       " 6,\n",
       " 6,\n",
       " 6,\n",
       " 6,\n",
       " 6,\n",
       " 6,\n",
       " 4,\n",
       " 6,\n",
       " 6,\n",
       " 6,\n",
       " 6,\n",
       " 6,\n",
       " 6,\n",
       " 6,\n",
       " 6,\n",
       " 6,\n",
       " 6,\n",
       " 6,\n",
       " 1,\n",
       " 6,\n",
       " 6,\n",
       " 6,\n",
       " 2,\n",
       " 5,\n",
       " 6,\n",
       " 6,\n",
       " 6,\n",
       " 6,\n",
       " 6,\n",
       " 6,\n",
       " 6,\n",
       " 6,\n",
       " 6,\n",
       " 6,\n",
       " 6,\n",
       " 1,\n",
       " 6,\n",
       " 6,\n",
       " 6,\n",
       " 6,\n",
       " 4,\n",
       " 6,\n",
       " 6,\n",
       " 6,\n",
       " 6,\n",
       " 6,\n",
       " 6,\n",
       " 6,\n",
       " 6,\n",
       " 3,\n",
       " 6,\n",
       " 6,\n",
       " 6,\n",
       " 6,\n",
       " 6,\n",
       " 6,\n",
       " 6,\n",
       " 6,\n",
       " 5,\n",
       " 6,\n",
       " 6,\n",
       " 6,\n",
       " 6,\n",
       " 6,\n",
       " 6,\n",
       " 6,\n",
       " 6,\n",
       " 6,\n",
       " 3,\n",
       " 1,\n",
       " 6,\n",
       " 2,\n",
       " 6,\n",
       " 6,\n",
       " 6,\n",
       " 6,\n",
       " 6,\n",
       " 6,\n",
       " 2,\n",
       " 6,\n",
       " 6,\n",
       " 6,\n",
       " 6,\n",
       " 6,\n",
       " 6,\n",
       " 6,\n",
       " 6,\n",
       " 6,\n",
       " 6,\n",
       " 6,\n",
       " 6,\n",
       " 6,\n",
       " 1,\n",
       " 6,\n",
       " 6,\n",
       " 6,\n",
       " 5,\n",
       " 6,\n",
       " 6,\n",
       " 6,\n",
       " 6,\n",
       " 6,\n",
       " 3,\n",
       " 6,\n",
       " 6,\n",
       " 6,\n",
       " 6,\n",
       " 6,\n",
       " 6,\n",
       " 6,\n",
       " 6,\n",
       " 1,\n",
       " 6,\n",
       " 6,\n",
       " 6,\n",
       " 6,\n",
       " 4,\n",
       " 6,\n",
       " 6,\n",
       " 6,\n",
       " 6,\n",
       " 6,\n",
       " 6,\n",
       " 6,\n",
       " 6,\n",
       " 3,\n",
       " 6,\n",
       " 6,\n",
       " 6,\n",
       " 6,\n",
       " 6,\n",
       " 6,\n",
       " 6,\n",
       " 6,\n",
       " 5,\n",
       " 6,\n",
       " 6,\n",
       " 6,\n",
       " 6,\n",
       " 6,\n",
       " 6,\n",
       " 6,\n",
       " 6,\n",
       " 3,\n",
       " 1,\n",
       " 6,\n",
       " 6,\n",
       " 6,\n",
       " 6,\n",
       " 4,\n",
       " 6,\n",
       " 6,\n",
       " 6,\n",
       " 6,\n",
       " 6,\n",
       " 6,\n",
       " 6,\n",
       " 6,\n",
       " 1,\n",
       " 2,\n",
       " 6,\n",
       " 6,\n",
       " 6,\n",
       " 6,\n",
       " 6,\n",
       " 6,\n",
       " 6,\n",
       " 2,\n",
       " 6,\n",
       " 6,\n",
       " 6,\n",
       " 6,\n",
       " 6,\n",
       " 6,\n",
       " 6,\n",
       " 6,\n",
       " 6,\n",
       " 6,\n",
       " 6,\n",
       " 6,\n",
       " 6,\n",
       " 6,\n",
       " 6,\n",
       " 6,\n",
       " 6,\n",
       " 4,\n",
       " 6,\n",
       " 6,\n",
       " 6,\n",
       " 6,\n",
       " 6,\n",
       " 6,\n",
       " 6,\n",
       " 6,\n",
       " 3,\n",
       " 6,\n",
       " 6,\n",
       " 6,\n",
       " 6,\n",
       " 6,\n",
       " 6,\n",
       " 6,\n",
       " 6,\n",
       " 5,\n",
       " 6,\n",
       " 6,\n",
       " 6,\n",
       " 6,\n",
       " 6,\n",
       " 6,\n",
       " 6,\n",
       " 6,\n",
       " 6,\n",
       " 3,\n",
       " 1,\n",
       " 6,\n",
       " 2,\n",
       " 6,\n",
       " 6,\n",
       " 6,\n",
       " 6,\n",
       " 6,\n",
       " 6,\n",
       " 2,\n",
       " 6,\n",
       " 6,\n",
       " 6,\n",
       " 6,\n",
       " 6,\n",
       " 6,\n",
       " 6,\n",
       " 6,\n",
       " 6,\n",
       " 6,\n",
       " 6,\n",
       " 6,\n",
       " 6,\n",
       " 1,\n",
       " 6,\n",
       " 6,\n",
       " 6]"
      ]
     },
     "execution_count": 17,
     "metadata": {},
     "output_type": "execute_result"
    }
   ],
   "source": [
    "encoded_sentences = [] # 자연어가사->숫자 text1\n",
    "for word in text1:\n",
    "    try:\n",
    "        encoded_sentences.append(word_to_index[word])\n",
    "    except:\n",
    "        encoded_sentences.append(word_to_index[\"기타\"])\n",
    "encoded_sentences"
   ]
  },
  {
   "cell_type": "code",
   "execution_count": 18,
   "id": "ab1a2ba2",
   "metadata": {},
   "outputs": [
    {
     "data": {
      "text/plain": [
       "[('다', 6),\n",
       " ('잊었다는', 6),\n",
       " ('거짓말', 6),\n",
       " ('또', 6),\n",
       " ('해', 6),\n",
       " ('버렸죠', 6),\n",
       " ('내', 6),\n",
       " ('마음', 6),\n",
       " ('에', 6),\n",
       " ('그', 6),\n",
       " ('대란', 6),\n",
       " ('사람', 4),\n",
       " ('없다고', 6),\n",
       " ('했죠', 6),\n",
       " ('너무나', 6),\n",
       " ('쉽게', 6),\n",
       " ('잊혀졌다고', 6),\n",
       " ('이', 6),\n",
       " ('젠', 6),\n",
       " ('남', 6),\n",
       " ('이라고', 6),\n",
       " ('서툰', 6),\n",
       " ('내', 6),\n",
       " ('사랑', 1),\n",
       " ('에', 6),\n",
       " ('지쳐', 6),\n",
       " ('떠난', 6),\n",
       " ('그대', 2),\n",
       " ('너무', 5),\n",
       " ('많이', 6),\n",
       " ('울려서', 6),\n",
       " ('잡', 6),\n",
       " ('을', 6),\n",
       " ('용기', 6),\n",
       " ('조차', 6),\n",
       " ('낼', 6),\n",
       " ('수', 6),\n",
       " ('없었죠', 6),\n",
       " ('미안해요', 6),\n",
       " ('내', 6),\n",
       " ('사랑', 1),\n",
       " ('아', 6),\n",
       " ('다신', 6),\n",
       " ('나', 6),\n",
       " ('같은', 6),\n",
       " ('사람', 4),\n",
       " ('만나지', 6),\n",
       " ('마', 6),\n",
       " ('요', 6),\n",
       " ('혹시', 6),\n",
       " ('찾아가도', 6),\n",
       " ('두', 6),\n",
       " ('번', 6),\n",
       " ('다시', 6),\n",
       " ('나를', 3),\n",
       " ('허락', 6),\n",
       " ('해', 6),\n",
       " ('주지', 6),\n",
       " ('마', 6),\n",
       " ('요', 6),\n",
       " ('그', 6),\n",
       " ('댄', 6),\n",
       " ('여리고', 6),\n",
       " ('너무', 5),\n",
       " ('착해서', 6),\n",
       " ('싫단', 6),\n",
       " ('말', 6),\n",
       " ('도', 6),\n",
       " ('잘', 6),\n",
       " ('못', 6),\n",
       " ('하는데', 6),\n",
       " ('많이', 6),\n",
       " ('부족한', 6),\n",
       " ('나를', 3),\n",
       " ('사랑', 1),\n",
       " ('한', 6),\n",
       " ('그대', 2),\n",
       " ('이', 6),\n",
       " ('거', 6),\n",
       " ('면', 6),\n",
       " ('됐어요', 6),\n",
       " ('더', 6),\n",
       " ('이상은', 6),\n",
       " ('그대', 2),\n",
       " ('불행하지', 6),\n",
       " ('않도록', 6),\n",
       " ('나', 6),\n",
       " ('이쯤', 6),\n",
       " ('에서', 6),\n",
       " ('없어지는', 6),\n",
       " ('게', 6),\n",
       " ('그', 6),\n",
       " ('댈', 6),\n",
       " ('위', 6),\n",
       " ('한', 6),\n",
       " ('나', 6),\n",
       " ('의', 6),\n",
       " ('사랑', 1),\n",
       " ('인', 6),\n",
       " ('걸', 6),\n",
       " ('요', 6),\n",
       " ('너무', 5),\n",
       " ('투명해서', 6),\n",
       " ('때론', 6),\n",
       " ('불안했죠', 6),\n",
       " ('제멋대로', 6),\n",
       " ('살아온', 6),\n",
       " ('나를', 3),\n",
       " ('감당', 6),\n",
       " ('할', 6),\n",
       " ('수', 6),\n",
       " ('없을', 6),\n",
       " ('것', 6),\n",
       " ('같죠', 6),\n",
       " ('미안해요', 6),\n",
       " ('내', 6),\n",
       " ('사랑', 1),\n",
       " ('아', 6),\n",
       " ('다신', 6),\n",
       " ('나', 6),\n",
       " ('같은', 6),\n",
       " ('사람', 4),\n",
       " ('만나지', 6),\n",
       " ('마', 6),\n",
       " ('요', 6),\n",
       " ('혹시', 6),\n",
       " ('찾아가도', 6),\n",
       " ('두', 6),\n",
       " ('번', 6),\n",
       " ('다시', 6),\n",
       " ('나를', 3),\n",
       " ('허락', 6),\n",
       " ('해', 6),\n",
       " ('주지', 6),\n",
       " ('마', 6),\n",
       " ('요', 6),\n",
       " ('그', 6),\n",
       " ('댄', 6),\n",
       " ('여리고', 6),\n",
       " ('너무', 5),\n",
       " ('착해서', 6),\n",
       " ('싫단', 6),\n",
       " ('말', 6),\n",
       " ('도', 6),\n",
       " ('잘', 6),\n",
       " ('못', 6),\n",
       " ('하는데', 6),\n",
       " ('고마웠어요', 6),\n",
       " ('나를', 3),\n",
       " ('사랑', 1),\n",
       " ('해', 6),\n",
       " ('줘서', 6),\n",
       " ('나', 6),\n",
       " ('같은', 6),\n",
       " ('사람', 4),\n",
       " ('이', 6),\n",
       " ('두', 6),\n",
       " ('번', 6),\n",
       " ('다시', 6),\n",
       " ('감히', 6),\n",
       " ('받을', 6),\n",
       " ('수', 6),\n",
       " ('없는', 6),\n",
       " ('사랑', 1),\n",
       " ('그대', 2),\n",
       " ('때문', 6),\n",
       " ('에', 6),\n",
       " ('행복했어요', 6),\n",
       " ('울', 6),\n",
       " ('지', 6),\n",
       " ('마', 6),\n",
       " ('요', 6),\n",
       " ('그대', 2),\n",
       " ('잘', 6),\n",
       " ('생각', 6),\n",
       " ('해', 6),\n",
       " ('봐요', 6),\n",
       " ('나쁜', 6),\n",
       " ('일', 6),\n",
       " ('들', 6),\n",
       " ('만', 6),\n",
       " ('가득했던', 6),\n",
       " ('우리', 6),\n",
       " ('다', 6),\n",
       " ('잊어야', 6),\n",
       " ('해', 6),\n",
       " ('요', 6),\n",
       " ('다신', 6),\n",
       " ('나', 6),\n",
       " ('같은', 6),\n",
       " ('사람', 4),\n",
       " ('만나지', 6),\n",
       " ('마', 6),\n",
       " ('요', 6),\n",
       " ('혹시', 6),\n",
       " ('찾아가도', 6),\n",
       " ('두', 6),\n",
       " ('번', 6),\n",
       " ('다시', 6),\n",
       " ('나를', 3),\n",
       " ('허락', 6),\n",
       " ('해', 6),\n",
       " ('주지', 6),\n",
       " ('마', 6),\n",
       " ('요', 6),\n",
       " ('그', 6),\n",
       " ('댄', 6),\n",
       " ('여리고', 6),\n",
       " ('너무', 5),\n",
       " ('착해서', 6),\n",
       " ('싫단', 6),\n",
       " ('말', 6),\n",
       " ('도', 6),\n",
       " ('잘', 6),\n",
       " ('못', 6),\n",
       " ('하는데', 6),\n",
       " ('많이', 6),\n",
       " ('부족한', 6),\n",
       " ('나를', 3),\n",
       " ('사랑', 1),\n",
       " ('한', 6),\n",
       " ('그대', 2),\n",
       " ('이', 6),\n",
       " ('거', 6),\n",
       " ('면', 6),\n",
       " ('됐어요', 6),\n",
       " ('더', 6),\n",
       " ('이상은', 6),\n",
       " ('그대', 2),\n",
       " ('불행하지', 6),\n",
       " ('않도록', 6),\n",
       " ('나', 6),\n",
       " ('이쯤', 6),\n",
       " ('에서', 6),\n",
       " ('없어지는', 6),\n",
       " ('게', 6),\n",
       " ('그', 6),\n",
       " ('댈', 6),\n",
       " ('위', 6),\n",
       " ('한', 6),\n",
       " ('나', 6),\n",
       " ('의', 6),\n",
       " ('사랑', 1),\n",
       " ('인', 6),\n",
       " ('걸', 6),\n",
       " ('요', 6)]"
      ]
     },
     "execution_count": 18,
     "metadata": {},
     "output_type": "execute_result"
    }
   ],
   "source": [
    "sub_list = list(zip(text1, encoded_sentences))\n",
    "sub_list"
   ]
  },
  {
   "cell_type": "code",
   "execution_count": 19,
   "id": "d48debf0",
   "metadata": {},
   "outputs": [],
   "source": [
    "# 텐서플로 토크나이저\n",
    "from tensorflow.keras.preprocessing.text import Tokenizer"
   ]
  },
  {
   "cell_type": "code",
   "execution_count": 20,
   "id": "ac5d6865",
   "metadata": {},
   "outputs": [],
   "source": [
    "text = [['다', '잊었다는', '거짓말'],\n",
    "          ['또', '해', '버렸죠'],\n",
    "          [],\n",
    "          ['내', '마음', '에'],\n",
    "          ['그'], ['대란'], ['사람'],\n",
    "          ['없다고', '했죠']]"
   ]
  },
  {
   "cell_type": "code",
   "execution_count": 21,
   "id": "3927bd73",
   "metadata": {},
   "outputs": [],
   "source": [
    "tokenizer = Tokenizer()"
   ]
  },
  {
   "cell_type": "code",
   "execution_count": 22,
   "id": "9474153a",
   "metadata": {},
   "outputs": [],
   "source": [
    "tokenizer.fit_on_texts(text)"
   ]
  },
  {
   "cell_type": "code",
   "execution_count": 23,
   "id": "7050b480",
   "metadata": {},
   "outputs": [
    {
     "data": {
      "text/plain": [
       "{'다': 1,\n",
       " '잊었다는': 2,\n",
       " '거짓말': 3,\n",
       " '또': 4,\n",
       " '해': 5,\n",
       " '버렸죠': 6,\n",
       " '내': 7,\n",
       " '마음': 8,\n",
       " '에': 9,\n",
       " '그': 10,\n",
       " '대란': 11,\n",
       " '사람': 12,\n",
       " '없다고': 13,\n",
       " '했죠': 14}"
      ]
     },
     "execution_count": 23,
     "metadata": {},
     "output_type": "execute_result"
    }
   ],
   "source": [
    "tokenizer.word_index"
   ]
  },
  {
   "cell_type": "code",
   "execution_count": 24,
   "id": "f31023b5",
   "metadata": {},
   "outputs": [
    {
     "data": {
      "text/plain": [
       "OrderedDict([('다', 1),\n",
       "             ('잊었다는', 1),\n",
       "             ('거짓말', 1),\n",
       "             ('또', 1),\n",
       "             ('해', 1),\n",
       "             ('버렸죠', 1),\n",
       "             ('내', 1),\n",
       "             ('마음', 1),\n",
       "             ('에', 1),\n",
       "             ('그', 1),\n",
       "             ('대란', 1),\n",
       "             ('사람', 1),\n",
       "             ('없다고', 1),\n",
       "             ('했죠', 1)])"
      ]
     },
     "execution_count": 24,
     "metadata": {},
     "output_type": "execute_result"
    }
   ],
   "source": [
    "tokenizer.word_counts"
   ]
  },
  {
   "cell_type": "code",
   "execution_count": 25,
   "id": "dfc09b4b",
   "metadata": {},
   "outputs": [
    {
     "data": {
      "text/plain": [
       "[[1, 2, 3], [4, 5, 6], [], [7, 8, 9], [10], [11], [12], [13, 14]]"
      ]
     },
     "execution_count": 25,
     "metadata": {},
     "output_type": "execute_result"
    }
   ],
   "source": [
    "tokenizer.texts_to_sequences(text)"
   ]
  },
  {
   "cell_type": "code",
   "execution_count": 26,
   "id": "f4592ae5",
   "metadata": {},
   "outputs": [],
   "source": [
    "vocab_size = 5\n",
    "tok = Tokenizer(num_words = vocab_size + 1)\n",
    "tok.fit_on_texts(text)"
   ]
  },
  {
   "cell_type": "code",
   "execution_count": 27,
   "id": "e10c41c5",
   "metadata": {},
   "outputs": [
    {
     "data": {
      "text/plain": [
       "{'다': 1,\n",
       " '잊었다는': 2,\n",
       " '거짓말': 3,\n",
       " '또': 4,\n",
       " '해': 5,\n",
       " '버렸죠': 6,\n",
       " '내': 7,\n",
       " '마음': 8,\n",
       " '에': 9,\n",
       " '그': 10,\n",
       " '대란': 11,\n",
       " '사람': 12,\n",
       " '없다고': 13,\n",
       " '했죠': 14}"
      ]
     },
     "execution_count": 27,
     "metadata": {},
     "output_type": "execute_result"
    }
   ],
   "source": [
    "tok.word_index"
   ]
  },
  {
   "cell_type": "code",
   "execution_count": 28,
   "id": "5df45e38",
   "metadata": {},
   "outputs": [
    {
     "data": {
      "text/plain": [
       "['버렸죠', '내', '마음', '에', '그', '대란', '사람', '없다고', '했죠']"
      ]
     },
     "execution_count": 28,
     "metadata": {},
     "output_type": "execute_result"
    }
   ],
   "source": [
    "words_freq_cut = [word for word, index in tokenizer.word_index.items()\n",
    "                         if index >= vocab_size + 1]\n",
    "words_freq_cut"
   ]
  },
  {
   "cell_type": "code",
   "execution_count": 29,
   "id": "16afe443",
   "metadata": {},
   "outputs": [
    {
     "name": "stdout",
     "output_type": "stream",
     "text": [
      "{'다': 1, '잊었다는': 2, '거짓말': 3, '또': 4, '해': 5}\n",
      "OrderedDict([('다', 1), ('잊었다는', 1), ('거짓말', 1), ('또', 1), ('해', 1)])\n",
      "[[1, 2, 3], [4, 5], [], [], [], [], [], []]\n"
     ]
    }
   ],
   "source": [
    "for word in words_freq_cut:\n",
    "    del tok.word_index[word]\n",
    "    del tok.word_counts[word]\n",
    "print(tok.word_index)\n",
    "print(tok.word_counts)\n",
    "print(tok.texts_to_sequences(text))"
   ]
  },
  {
   "cell_type": "code",
   "execution_count": 30,
   "id": "c7f313a6",
   "metadata": {
    "scrolled": true
   },
   "outputs": [
    {
     "data": {
      "text/plain": [
       "'0.6.0'"
      ]
     },
     "execution_count": 30,
     "metadata": {},
     "output_type": "execute_result"
    }
   ],
   "source": [
    "import konlpy\n",
    "konlpy.__version__"
   ]
  },
  {
   "cell_type": "code",
   "execution_count": 34,
   "id": "aebf513e",
   "metadata": {},
   "outputs": [],
   "source": [
    "from tensorflow.keras.preprocessing.sequence import pad_sequences"
   ]
  },
  {
   "cell_type": "code",
   "execution_count": 35,
   "id": "e2b077a6",
   "metadata": {},
   "outputs": [
    {
     "data": {
      "text/plain": [
       "[[1, 2, 3], [4, 5, 6], [], [7, 8, 9], [10], [11], [12], [13, 14]]"
      ]
     },
     "execution_count": 35,
     "metadata": {},
     "output_type": "execute_result"
    }
   ],
   "source": [
    "tokenizer = Tokenizer()\n",
    "tokenizer.fit_on_texts(text)\n",
    "enc = tokenizer.texts_to_sequences(text)\n",
    "enc"
   ]
  },
  {
   "cell_type": "code",
   "execution_count": 36,
   "id": "b8a95bd8",
   "metadata": {},
   "outputs": [
    {
     "data": {
      "text/plain": [
       "array([[ 1,  2,  3],\n",
       "       [ 4,  5,  6],\n",
       "       [ 0,  0,  0],\n",
       "       [ 7,  8,  9],\n",
       "       [ 0,  0, 10],\n",
       "       [ 0,  0, 11],\n",
       "       [ 0,  0, 12],\n",
       "       [ 0, 13, 14]])"
      ]
     },
     "execution_count": 36,
     "metadata": {},
     "output_type": "execute_result"
    }
   ],
   "source": [
    "padded = pad_sequences(enc)\n",
    "padded"
   ]
  },
  {
   "cell_type": "code",
   "execution_count": 37,
   "id": "69392138",
   "metadata": {},
   "outputs": [
    {
     "data": {
      "text/plain": [
       "array([[ 1,  2,  3],\n",
       "       [ 4,  5,  6],\n",
       "       [ 0,  0,  0],\n",
       "       [ 7,  8,  9],\n",
       "       [10,  0,  0],\n",
       "       [11,  0,  0],\n",
       "       [12,  0,  0],\n",
       "       [13, 14,  0]])"
      ]
     },
     "execution_count": 37,
     "metadata": {},
     "output_type": "execute_result"
    }
   ],
   "source": [
    "padded_post = pad_sequences(enc, padding=\"post\")\n",
    "padded_post"
   ]
  },
  {
   "cell_type": "code",
   "execution_count": null,
   "id": "a5808e8f",
   "metadata": {},
   "outputs": [],
   "source": [
    "# one hot encoding vs. label encoding"
   ]
  },
  {
   "cell_type": "code",
   "execution_count": 32,
   "id": "a6ff593c",
   "metadata": {},
   "outputs": [],
   "source": [
    "items = [\"남자\", \"여자\", \"여자\", \"남자\", \"여자\"]"
   ]
  },
  {
   "cell_type": "code",
   "execution_count": 33,
   "id": "465676b4",
   "metadata": {},
   "outputs": [],
   "source": [
    "from sklearn.preprocessing import LabelEncoder"
   ]
  },
  {
   "cell_type": "code",
   "execution_count": 38,
   "id": "1471a8e6",
   "metadata": {},
   "outputs": [
    {
     "data": {
      "text/plain": [
       "array([0, 1, 1, 0, 1], dtype=int64)"
      ]
     },
     "execution_count": 38,
     "metadata": {},
     "output_type": "execute_result"
    }
   ],
   "source": [
    "le = LabelEncoder()\n",
    "le.fit_transform(items)"
   ]
  },
  {
   "cell_type": "code",
   "execution_count": 39,
   "id": "aae6bc30",
   "metadata": {},
   "outputs": [],
   "source": [
    "# 판다스 : get_dummy, sklearn:one hot encoder, tf, keras 등으로 인코딩 방법 접근할 수 있었음."
   ]
  },
  {
   "cell_type": "code",
   "execution_count": 41,
   "id": "75750249",
   "metadata": {},
   "outputs": [
    {
     "data": {
      "text/plain": [
       "'나는 자연어 처리를 배우는 거겠지. 자연어 처리는 어렵지 않았으면 좋겠어'"
      ]
     },
     "execution_count": 41,
     "metadata": {},
     "output_type": "execute_result"
    }
   ],
   "source": [
    "text = \"나는 자연어 처리를 배우는 거겠지. 자연어 처리는 어렵지 않았으면 좋겠어\"\n",
    "text"
   ]
  },
  {
   "cell_type": "code",
   "execution_count": 43,
   "id": "89849f1b",
   "metadata": {},
   "outputs": [],
   "source": [
    "# 케라스 모듈을 통한 인코딩\n",
    "from tensorflow.keras.preprocessing.text import Tokenizer\n",
    "from tensorflow.keras.utils import to_categorical"
   ]
  },
  {
   "cell_type": "code",
   "execution_count": 44,
   "id": "1035d6c6",
   "metadata": {},
   "outputs": [
    {
     "name": "stdout",
     "output_type": "stream",
     "text": [
      "{'자연어': 1, '나는': 2, '처리를': 3, '배우는': 4, '거겠지': 5, '처리는': 6, '어렵지': 7, '않았으면': 8, '좋겠어': 9}\n"
     ]
    }
   ],
   "source": [
    "tok = Tokenizer()\n",
    "tok.fit_on_texts({text})\n",
    "print(tok.word_index)"
   ]
  },
  {
   "cell_type": "code",
   "execution_count": 46,
   "id": "7bc18635",
   "metadata": {},
   "outputs": [
    {
     "data": {
      "text/plain": [
       "[2, 7]"
      ]
     },
     "execution_count": 46,
     "metadata": {},
     "output_type": "execute_result"
    }
   ],
   "source": [
    "sub_text = \"나는 어렵지 않기를 바래\"\n",
    "# tok에 서브 텍스트 추가\n",
    "enc1 = tok.texts_to_sequences([sub_text])[0]\n",
    "enc1"
   ]
  },
  {
   "cell_type": "code",
   "execution_count": 47,
   "id": "98eab586",
   "metadata": {},
   "outputs": [
    {
     "data": {
      "text/plain": [
       "array([[0., 0., 1., 0., 0., 0., 0., 0.],\n",
       "       [0., 0., 0., 0., 0., 0., 0., 1.]], dtype=float32)"
      ]
     },
     "execution_count": 47,
     "metadata": {},
     "output_type": "execute_result"
    }
   ],
   "source": [
    "ohe1 = to_categorical(enc1)\n",
    "ohe1"
   ]
  },
  {
   "cell_type": "code",
   "execution_count": 49,
   "id": "9f407c9c",
   "metadata": {},
   "outputs": [
    {
     "data": {
      "text/html": [
       "<div>\n",
       "<style scoped>\n",
       "    .dataframe tbody tr th:only-of-type {\n",
       "        vertical-align: middle;\n",
       "    }\n",
       "\n",
       "    .dataframe tbody tr th {\n",
       "        vertical-align: top;\n",
       "    }\n",
       "\n",
       "    .dataframe thead th {\n",
       "        text-align: right;\n",
       "    }\n",
       "</style>\n",
       "<table border=\"1\" class=\"dataframe\">\n",
       "  <thead>\n",
       "    <tr style=\"text-align: right;\">\n",
       "      <th></th>\n",
       "      <th>X</th>\n",
       "      <th>y</th>\n",
       "    </tr>\n",
       "  </thead>\n",
       "  <tbody>\n",
       "    <tr>\n",
       "      <th>0</th>\n",
       "      <td>b</td>\n",
       "      <td>0</td>\n",
       "    </tr>\n",
       "    <tr>\n",
       "      <th>1</th>\n",
       "      <td>r</td>\n",
       "      <td>1</td>\n",
       "    </tr>\n",
       "    <tr>\n",
       "      <th>2</th>\n",
       "      <td>r</td>\n",
       "      <td>1</td>\n",
       "    </tr>\n",
       "    <tr>\n",
       "      <th>3</th>\n",
       "      <td>g</td>\n",
       "      <td>0</td>\n",
       "    </tr>\n",
       "    <tr>\n",
       "      <th>4</th>\n",
       "      <td>g</td>\n",
       "      <td>0</td>\n",
       "    </tr>\n",
       "  </tbody>\n",
       "</table>\n",
       "</div>"
      ],
      "text/plain": [
       "   X  y\n",
       "0  b  0\n",
       "1  r  1\n",
       "2  r  1\n",
       "3  g  0\n",
       "4  g  0"
      ]
     },
     "execution_count": 49,
     "metadata": {},
     "output_type": "execute_result"
    }
   ],
   "source": [
    "#one hot encoding 만들기\n",
    "X = [\"b\", \"r\", \"r\", \"g\", \"g\"] # 옷 색깔\n",
    "y = [0, 1, 1, 0, 0] # 구조 여부\n",
    "\n",
    "df1 = pd.DataFrame({\"X\": X, \"y\": y})\n",
    "df1"
   ]
  },
  {
   "cell_type": "code",
   "execution_count": 50,
   "id": "4d3f71c4",
   "metadata": {},
   "outputs": [
    {
     "data": {
      "text/html": [
       "<div>\n",
       "<style scoped>\n",
       "    .dataframe tbody tr th:only-of-type {\n",
       "        vertical-align: middle;\n",
       "    }\n",
       "\n",
       "    .dataframe tbody tr th {\n",
       "        vertical-align: top;\n",
       "    }\n",
       "\n",
       "    .dataframe thead th {\n",
       "        text-align: right;\n",
       "    }\n",
       "</style>\n",
       "<table border=\"1\" class=\"dataframe\">\n",
       "  <thead>\n",
       "    <tr style=\"text-align: right;\">\n",
       "      <th></th>\n",
       "      <th>b</th>\n",
       "      <th>g</th>\n",
       "      <th>r</th>\n",
       "    </tr>\n",
       "  </thead>\n",
       "  <tbody>\n",
       "    <tr>\n",
       "      <th>0</th>\n",
       "      <td>1</td>\n",
       "      <td>0</td>\n",
       "      <td>0</td>\n",
       "    </tr>\n",
       "    <tr>\n",
       "      <th>1</th>\n",
       "      <td>0</td>\n",
       "      <td>0</td>\n",
       "      <td>1</td>\n",
       "    </tr>\n",
       "    <tr>\n",
       "      <th>2</th>\n",
       "      <td>0</td>\n",
       "      <td>0</td>\n",
       "      <td>1</td>\n",
       "    </tr>\n",
       "    <tr>\n",
       "      <th>3</th>\n",
       "      <td>0</td>\n",
       "      <td>1</td>\n",
       "      <td>0</td>\n",
       "    </tr>\n",
       "    <tr>\n",
       "      <th>4</th>\n",
       "      <td>0</td>\n",
       "      <td>1</td>\n",
       "      <td>0</td>\n",
       "    </tr>\n",
       "  </tbody>\n",
       "</table>\n",
       "</div>"
      ],
      "text/plain": [
       "   b  g  r\n",
       "0  1  0  0\n",
       "1  0  0  1\n",
       "2  0  0  1\n",
       "3  0  1  0\n",
       "4  0  1  0"
      ]
     },
     "execution_count": 50,
     "metadata": {},
     "output_type": "execute_result"
    }
   ],
   "source": [
    "pd.get_dummies(df1[\"X\"])"
   ]
  },
  {
   "cell_type": "code",
   "execution_count": 51,
   "id": "4e515e40",
   "metadata": {},
   "outputs": [
    {
     "name": "stderr",
     "output_type": "stream",
     "text": [
      "C:\\Users\\user\\anaconda3\\envs\\sesac_se\\lib\\site-packages\\sklearn\\preprocessing\\_encoders.py:808: FutureWarning: `sparse` was renamed to `sparse_output` in version 1.2 and will be removed in 1.4. `sparse_output` is ignored unless you leave `sparse` to its default value.\n",
      "  warnings.warn(\n"
     ]
    },
    {
     "data": {
      "text/plain": [
       "array([[1., 0., 0., 1., 0.],\n",
       "       [0., 0., 1., 0., 1.],\n",
       "       [0., 0., 1., 0., 1.],\n",
       "       [0., 1., 0., 1., 0.],\n",
       "       [0., 1., 0., 1., 0.]])"
      ]
     },
     "execution_count": 51,
     "metadata": {},
     "output_type": "execute_result"
    }
   ],
   "source": [
    "from sklearn.preprocessing import OneHotEncoder\n",
    "ohe = OneHotEncoder(sparse=False)\n",
    "# 희소행렬 형태로 출력해야 나옴\n",
    "ohe.fit_transform(df1)\n",
    "\n",
    "# 이 경우 인코딩한 레이블이 뭔지 볼 수 없어서 아쉬움."
   ]
  },
  {
   "cell_type": "code",
   "execution_count": null,
   "id": "7a9a9f25",
   "metadata": {},
   "outputs": [],
   "source": [
    "# 언어 모델\n",
    "# 음성 : 주파수 분석 -> 단어\n",
    "# 아버지가 방에 들어가신다 -> 아버지 가방에 들어가신다, 아버지가 방에 돌아가신다\n",
    "# 오타 교정, 음성 인식 교정 -> 추천/\n",
    "# 자기야 잘 잤어? 오늘도 힘내자 -> 자기(야, 도, 눈), 자기야(잘, 우리, ...), 자기야 잘 (잤어? 나와?)\n",
    "# 검색어 자동 완성"
   ]
  },
  {
   "cell_type": "code",
   "execution_count": null,
   "id": "e6d33e1d",
   "metadata": {},
   "outputs": [],
   "source": []
  }
 ],
 "metadata": {
  "kernelspec": {
   "display_name": "Python 3 (ipykernel)",
   "language": "python",
   "name": "python3"
  },
  "language_info": {
   "codemirror_mode": {
    "name": "ipython",
    "version": 3
   },
   "file_extension": ".py",
   "mimetype": "text/x-python",
   "name": "python",
   "nbconvert_exporter": "python",
   "pygments_lexer": "ipython3",
   "version": "3.8.15"
  }
 },
 "nbformat": 4,
 "nbformat_minor": 5
}
